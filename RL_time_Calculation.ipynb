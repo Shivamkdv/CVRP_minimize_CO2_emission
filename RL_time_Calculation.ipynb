{
 "cells": [
  {
   "cell_type": "markdown",
   "id": "8f4aaa0e",
   "metadata": {},
   "source": [
    "### Run Using actor_crtic environment"
   ]
  },
  {
   "cell_type": "markdown",
   "id": "3d531b82",
   "metadata": {},
   "source": [
    "# Importing Libraries"
   ]
  },
  {
   "cell_type": "code",
   "execution_count": 1,
   "id": "90957a02",
   "metadata": {},
   "outputs": [],
   "source": [
    "import os\n",
    "import torch\n",
    "import time\n",
    "import numpy as  np\n",
    "from Tasks import vrp\n",
    "import matplotlib.pyplot as plt\n",
    "from torch.utils.data import DataLoader\n",
    "from Models.actor import DRL4TSP\n",
    "from Models.critc import StateCritic\n",
    "from Tasks.vrp import VehicleRoutingDataset"
   ]
  },
  {
   "cell_type": "code",
   "execution_count": 2,
   "id": "476cbfbb",
   "metadata": {},
   "outputs": [],
   "source": [
    "%matplotlib inline"
   ]
  },
  {
   "cell_type": "code",
   "execution_count": 3,
   "id": "c6544e87",
   "metadata": {},
   "outputs": [
    {
     "name": "stdout",
     "output_type": "stream",
     "text": [
      "Detected device cpu\n"
     ]
    }
   ],
   "source": [
    "device = torch.device('cuda' if torch.cuda.is_available() else 'cpu')\n",
    "#device=torch.device('cpu')\n",
    "print('Detected device {}'.format(device))"
   ]
  },
  {
   "cell_type": "code",
   "execution_count": 4,
   "id": "bc17ee59",
   "metadata": {},
   "outputs": [],
   "source": [
    "#For error removing\n",
    "torch.backends.cudnn.benchmark = True\n",
    "torch.backends.cudnn.enabled=False"
   ]
  },
  {
   "cell_type": "code",
   "execution_count": 5,
   "id": "aba06fb5",
   "metadata": {},
   "outputs": [],
   "source": [
    "#Hyperparameter\n",
    "LOAD_DICT={10:20,20:30,50:40,100:50}\n",
    "MAX_DEMAND=9\n",
    "STATIC_SIZE=2 #(x,y)\n",
    "DYNAMIC_SIZE=2 #(load,demand)\n",
    "seed=42"
   ]
  },
  {
   "cell_type": "code",
   "execution_count": 6,
   "id": "82d85acc",
   "metadata": {},
   "outputs": [],
   "source": [
    "hidden_size=128\n",
    "num_layers=1\n",
    "dropout=0.1"
   ]
  },
  {
   "cell_type": "markdown",
   "id": "c76def77",
   "metadata": {},
   "source": [
    "### Generating problems"
   ]
  },
  {
   "cell_type": "code",
   "execution_count": 7,
   "id": "887c2b80",
   "metadata": {},
   "outputs": [],
   "source": [
    "num_nodes=10\n",
    "num_samples=1000\n",
    "max_load=LOAD_DICT[num_nodes]\n",
    "test_data=VehicleRoutingDataset(num_samples,\n",
    "                                num_nodes,\n",
    "                                max_load,\n",
    "                                MAX_DEMAND,\n",
    "                                seed)"
   ]
  },
  {
   "cell_type": "code",
   "execution_count": 8,
   "id": "ac18e8af",
   "metadata": {},
   "outputs": [],
   "source": [
    "batch_size=16\n",
    "test_loader=DataLoader(test_data,batch_size,False,num_workers=0)"
   ]
  },
  {
   "cell_type": "code",
   "execution_count": 9,
   "id": "54ac0a8f",
   "metadata": {},
   "outputs": [
    {
     "name": "stdout",
     "output_type": "stream",
     "text": [
      "torch.Size([16, 2, 11])\n",
      "torch.Size([16, 2, 11])\n",
      "torch.Size([16, 2, 11])\n",
      "torch.Size([16, 2, 11])\n",
      "torch.Size([16, 2, 11])\n",
      "torch.Size([16, 2, 11])\n",
      "torch.Size([16, 2, 11])\n",
      "torch.Size([16, 2, 11])\n",
      "torch.Size([16, 2, 11])\n",
      "torch.Size([16, 2, 11])\n",
      "torch.Size([16, 2, 11])\n",
      "torch.Size([16, 2, 11])\n",
      "torch.Size([16, 2, 11])\n",
      "torch.Size([16, 2, 11])\n",
      "torch.Size([16, 2, 11])\n",
      "torch.Size([16, 2, 11])\n",
      "torch.Size([16, 2, 11])\n",
      "torch.Size([16, 2, 11])\n",
      "torch.Size([16, 2, 11])\n",
      "torch.Size([16, 2, 11])\n",
      "torch.Size([16, 2, 11])\n",
      "torch.Size([16, 2, 11])\n",
      "torch.Size([16, 2, 11])\n",
      "torch.Size([16, 2, 11])\n",
      "torch.Size([16, 2, 11])\n",
      "torch.Size([16, 2, 11])\n",
      "torch.Size([16, 2, 11])\n",
      "torch.Size([16, 2, 11])\n",
      "torch.Size([16, 2, 11])\n",
      "torch.Size([16, 2, 11])\n",
      "torch.Size([16, 2, 11])\n",
      "torch.Size([16, 2, 11])\n",
      "torch.Size([16, 2, 11])\n",
      "torch.Size([16, 2, 11])\n",
      "torch.Size([16, 2, 11])\n",
      "torch.Size([16, 2, 11])\n",
      "torch.Size([16, 2, 11])\n",
      "torch.Size([16, 2, 11])\n",
      "torch.Size([16, 2, 11])\n",
      "torch.Size([16, 2, 11])\n",
      "torch.Size([16, 2, 11])\n",
      "torch.Size([16, 2, 11])\n",
      "torch.Size([16, 2, 11])\n",
      "torch.Size([16, 2, 11])\n",
      "torch.Size([16, 2, 11])\n",
      "torch.Size([16, 2, 11])\n",
      "torch.Size([16, 2, 11])\n",
      "torch.Size([16, 2, 11])\n",
      "torch.Size([16, 2, 11])\n",
      "torch.Size([16, 2, 11])\n",
      "torch.Size([16, 2, 11])\n",
      "torch.Size([16, 2, 11])\n",
      "torch.Size([16, 2, 11])\n",
      "torch.Size([16, 2, 11])\n",
      "torch.Size([16, 2, 11])\n",
      "torch.Size([16, 2, 11])\n",
      "torch.Size([16, 2, 11])\n",
      "torch.Size([16, 2, 11])\n",
      "torch.Size([16, 2, 11])\n",
      "torch.Size([16, 2, 11])\n",
      "torch.Size([16, 2, 11])\n",
      "torch.Size([16, 2, 11])\n",
      "torch.Size([8, 2, 11])\n"
     ]
    }
   ],
   "source": [
    "for x,y,z in test_loader:\n",
    "    print(x.shape)"
   ]
  },
  {
   "cell_type": "markdown",
   "id": "086c1923",
   "metadata": {},
   "source": [
    "### Loading Model"
   ]
  },
  {
   "cell_type": "code",
   "execution_count": 10,
   "id": "fd57494a",
   "metadata": {},
   "outputs": [],
   "source": [
    "actor=DRL4TSP(STATIC_SIZE,\n",
    "              DYNAMIC_SIZE,\n",
    "              hidden_size,\n",
    "              test_data.update_dynamic,\n",
    "              test_data.update_mask,\n",
    "              num_layers,\n",
    "              dropout\n",
    "              ).to(device)"
   ]
  },
  {
   "cell_type": "code",
   "execution_count": 11,
   "id": "37e2eb3b",
   "metadata": {},
   "outputs": [],
   "source": [
    "path=r'vrp\\10\\actor (1).pt'"
   ]
  },
  {
   "cell_type": "code",
   "execution_count": 12,
   "id": "310aa543",
   "metadata": {},
   "outputs": [
    {
     "data": {
      "text/plain": [
       "<All keys matched successfully>"
      ]
     },
     "execution_count": 12,
     "metadata": {},
     "output_type": "execute_result"
    }
   ],
   "source": [
    "actor.load_state_dict(torch.load(os.path.join(os.getcwd(),path),device))"
   ]
  },
  {
   "cell_type": "code",
   "execution_count": 13,
   "id": "7f5d772a",
   "metadata": {},
   "outputs": [],
   "source": [
    "def validate(data_loader, actor, reward_fn, render_fn=None, save_dir='.', num_plot=5):\n",
    "    actor.eval()\n",
    "    rewards=[]\n",
    "    \n",
    "    for batch_idx,batch in enumerate(data_loader):\n",
    "        \n",
    "        static, dynamic, x0 = batch\n",
    "        \n",
    "        static=static.to(device)\n",
    "        dynamic=dynamic.to(device)\n",
    "        x0=x0.to(device)\n",
    "        \n",
    "        with torch.no_grad():\n",
    "            tour_indices,_ = actor.forward(static,dynamic,x0)\n",
    "            \n",
    "        \n",
    "        reward=reward_fn(static,tour_indices)\n",
    "        rewards+=reward.tolist()\n",
    "        \n",
    "        if render_fn is not None and batch_idx < num_plot:\n",
    "            name = 'batch%d_%2.4f.png'%(batch_idx, reward)\n",
    "            path = os.path.join(save_dir, name)\n",
    "            render_fn(static, tour_indices)\n",
    "        \n",
    "    actor.train()\n",
    "    return rewards,tour_indices"
   ]
  },
  {
   "cell_type": "code",
   "execution_count": 14,
   "id": "ee1b7d3d",
   "metadata": {},
   "outputs": [],
   "source": [
    "def render_(static, tour_indices):\n",
    "    \"\"\"Plots the found solution.\"\"\"\n",
    "\n",
    "    plt.close('all')\n",
    "\n",
    "    num_plots = 3 if int(np.sqrt(len(tour_indices))) >= 3 else 1\n",
    "\n",
    "    _, axes = plt.subplots(nrows=num_plots, ncols=num_plots,\n",
    "                           sharex='col', sharey='row')\n",
    "\n",
    "    if num_plots == 1:\n",
    "        axes = [[axes]]\n",
    "    axes = [a for ax in axes for a in ax]\n",
    "\n",
    "    for i, ax in enumerate(axes):\n",
    "\n",
    "        # Convert the indices back into a tour\n",
    "        \n",
    "        idx = tour_indices[i]\n",
    "        \n",
    "        if len(idx.size()) == 1:\n",
    "            idx = idx.unsqueeze(0)\n",
    "        \n",
    "        idx = idx.expand(static.size(1), -1)\n",
    "        #print(f'static : {static[i]}')\n",
    "        #print(f'idx = {idx}')\n",
    "        \n",
    "        data = torch.gather(static[i].data, 1, idx).cpu().numpy()\n",
    "        #print(f'Data = {data}')\n",
    "        \n",
    "        start = static[i, :, 0].cpu().data.numpy()\n",
    "        x = np.hstack((start[0], data[0], start[0]))\n",
    "        y = np.hstack((start[1], data[1], start[1]))\n",
    "\n",
    "        # Assign each subtour a different colour & label in order traveled\n",
    "        idx = np.hstack((0, tour_indices[i].cpu().numpy().flatten(), 0))\n",
    "        #print(f'idx = {idx}')\n",
    "        where = np.where(idx == 0)[0]\n",
    "        #print(where)\n",
    "        for j in range(len(where) - 1):\n",
    "\n",
    "            low = where[j]\n",
    "            high = where[j + 1]\n",
    "\n",
    "            if low + 1 == high:\n",
    "                continue\n",
    "\n",
    "            ax.plot(x[low: high + 1], y[low: high + 1], zorder=1, label=j)\n",
    "\n",
    "        ax.legend(loc=\"upper right\", fontsize=3, framealpha=0.5)\n",
    "        ax.scatter(x, y, s=4, c='r', zorder=2)\n",
    "        ax.scatter(x[0], y[0], s=20, c='k', marker='*', zorder=3)\n",
    "\n",
    "        ax.set_xlim(0, 1)\n",
    "        ax.set_ylim(0, 1)\n",
    "    plt.grid()\n",
    "    plt.title('Routes Generated using RL')\n",
    "    plt.tight_layout()\n",
    "    plt.show()\n",
    "    #plt.savefig(save_path, bbox_inches='tight', dpi=200)"
   ]
  },
  {
   "cell_type": "code",
   "execution_count": 15,
   "id": "55766ec3",
   "metadata": {},
   "outputs": [
    {
     "name": "stderr",
     "output_type": "stream",
     "text": [
      "C:\\Users\\Admin\\Downloads\\VRP\\VRP\\RL-VRP-PtrNtwrk\\Tasks\\vrp.py:136: UserWarning: To copy construct from a tensor, it is recommended to use sourceTensor.clone().detach() or sourceTensor.clone().detach().requires_grad_(True), rather than torch.tensor(sourceTensor).\n",
      "  return torch.tensor(tensor.data, device=dynamic.device)\n"
     ]
    },
    {
     "name": "stdout",
     "output_type": "stream",
     "text": [
      "Average distance travelled is 5.44\n",
      "Standard Deviation is 1.03\n",
      "Average time taken is 0.001 sec\n",
      "\n",
      "\n"
     ]
    }
   ],
   "source": [
    "start=time.time()\n",
    "rl_distance, rl_routes = validate(test_loader, actor, vrp.reward)\n",
    "end=time.time()\n",
    "t=end-start\n",
    "ans=np.array(rl_distance)\n",
    "print(\"Average distance travelled is {0:.2f}\".format(ans.mean()))\n",
    "print(\"Standard Deviation is {0:.2f}\".format(ans.std()))\n",
    "print(\"Average time taken is {0:.3f} sec\\n\\n\".format(t/num_samples))"
   ]
  },
  {
   "cell_type": "markdown",
   "id": "dc5f3646",
   "metadata": {},
   "source": [
    "# For 20 Customer"
   ]
  },
  {
   "cell_type": "code",
   "execution_count": 16,
   "id": "46977d0b",
   "metadata": {},
   "outputs": [],
   "source": [
    "num_nodes=20\n",
    "num_samples=1000\n",
    "max_load=LOAD_DICT[num_nodes]\n",
    "test_data=VehicleRoutingDataset(num_samples,\n",
    "                                num_nodes,\n",
    "                                max_load,\n",
    "                                MAX_DEMAND,\n",
    "                                seed)"
   ]
  },
  {
   "cell_type": "code",
   "execution_count": 17,
   "id": "cc34589b",
   "metadata": {},
   "outputs": [],
   "source": [
    "batch_size=16\n",
    "test_loader=DataLoader(test_data,batch_size,False,num_workers=0)"
   ]
  },
  {
   "cell_type": "code",
   "execution_count": 18,
   "id": "3941b754",
   "metadata": {},
   "outputs": [],
   "source": [
    "actor=DRL4TSP(STATIC_SIZE,\n",
    "              DYNAMIC_SIZE,\n",
    "              hidden_size,\n",
    "              test_data.update_dynamic,\n",
    "              test_data.update_mask,\n",
    "              num_layers,\n",
    "              dropout\n",
    "              ).to(device)"
   ]
  },
  {
   "cell_type": "code",
   "execution_count": 19,
   "id": "03877d49",
   "metadata": {},
   "outputs": [
    {
     "data": {
      "text/plain": [
       "<All keys matched successfully>"
      ]
     },
     "execution_count": 19,
     "metadata": {},
     "output_type": "execute_result"
    }
   ],
   "source": [
    "path=r'vrp\\20\\actor.pt'\n",
    "actor.load_state_dict(torch.load(os.path.join(os.getcwd(),path),device))"
   ]
  },
  {
   "cell_type": "code",
   "execution_count": 20,
   "id": "a3bb2298",
   "metadata": {},
   "outputs": [
    {
     "name": "stdout",
     "output_type": "stream",
     "text": [
      "Average distance travelled is 7.06\n",
      "Standard Deviation is 0.96\n",
      "Average time taken is 0.003 sec\n",
      "\n",
      "\n"
     ]
    }
   ],
   "source": [
    "start=time.time()\n",
    "rl_distance, rl_routes = validate(test_loader, actor, vrp.reward)\n",
    "end=time.time()\n",
    "t=end-start\n",
    "ans=np.array(rl_distance)\n",
    "print(\"Average distance travelled is {0:.2f}\".format(ans.mean()))\n",
    "print(\"Standard Deviation is {0:.2f}\".format(ans.std()))\n",
    "print(\"Average time taken is {0:.3f} sec\\n\\n\".format(t/num_samples))"
   ]
  },
  {
   "cell_type": "markdown",
   "id": "6cafa9ed",
   "metadata": {},
   "source": [
    "# For 50 Customer"
   ]
  },
  {
   "cell_type": "code",
   "execution_count": 21,
   "id": "6775e06b",
   "metadata": {},
   "outputs": [],
   "source": [
    "num_nodes=50\n",
    "num_samples=1000\n",
    "max_load=LOAD_DICT[num_nodes]\n",
    "test_data=VehicleRoutingDataset(num_samples,\n",
    "                                num_nodes,\n",
    "                                max_load,\n",
    "                                MAX_DEMAND,\n",
    "                                seed)"
   ]
  },
  {
   "cell_type": "code",
   "execution_count": 22,
   "id": "88e708e9",
   "metadata": {},
   "outputs": [],
   "source": [
    "batch_size=16\n",
    "test_loader=DataLoader(test_data,batch_size,False,num_workers=0)"
   ]
  },
  {
   "cell_type": "code",
   "execution_count": 23,
   "id": "25946bb2",
   "metadata": {},
   "outputs": [],
   "source": [
    "actor=DRL4TSP(STATIC_SIZE,\n",
    "              DYNAMIC_SIZE,\n",
    "              hidden_size,\n",
    "              test_data.update_dynamic,\n",
    "              test_data.update_mask,\n",
    "              num_layers,\n",
    "              dropout\n",
    "              ).to(device)"
   ]
  },
  {
   "cell_type": "code",
   "execution_count": 24,
   "id": "cb04516d",
   "metadata": {},
   "outputs": [
    {
     "data": {
      "text/plain": [
       "<All keys matched successfully>"
      ]
     },
     "execution_count": 24,
     "metadata": {},
     "output_type": "execute_result"
    }
   ],
   "source": [
    "path=r'vrp\\50\\actor.pt'\n",
    "actor.load_state_dict(torch.load(os.path.join(os.getcwd(),path),device))"
   ]
  },
  {
   "cell_type": "code",
   "execution_count": 25,
   "id": "4e62d3cd",
   "metadata": {},
   "outputs": [
    {
     "name": "stdout",
     "output_type": "stream",
     "text": [
      "Average distance travelled is 12.37\n",
      "Standard Deviation is 1.38\n",
      "Average time taken is 0.008 sec\n",
      "\n",
      "\n"
     ]
    }
   ],
   "source": [
    "start=time.time()\n",
    "rl_distance, rl_routes = validate(test_loader, actor, vrp.reward)\n",
    "end=time.time()\n",
    "t=end-start\n",
    "ans=np.array(rl_distance)\n",
    "print(\"Average distance travelled is {0:.2f}\".format(ans.mean()))\n",
    "print(\"Standard Deviation is {0:.2f}\".format(ans.std()))\n",
    "print(\"Average time taken is {0:.3f} sec\\n\\n\".format(t/num_samples))"
   ]
  },
  {
   "cell_type": "code",
   "execution_count": null,
   "id": "ff865c0e",
   "metadata": {},
   "outputs": [],
   "source": []
  },
  {
   "cell_type": "code",
   "execution_count": null,
   "id": "21414ed7",
   "metadata": {},
   "outputs": [],
   "source": []
  },
  {
   "cell_type": "code",
   "execution_count": null,
   "id": "3e7b14f5",
   "metadata": {},
   "outputs": [],
   "source": []
  }
 ],
 "metadata": {
  "kernelspec": {
   "display_name": "Python 3 (ipykernel)",
   "language": "python",
   "name": "python3"
  },
  "language_info": {
   "codemirror_mode": {
    "name": "ipython",
    "version": 3
   },
   "file_extension": ".py",
   "mimetype": "text/x-python",
   "name": "python",
   "nbconvert_exporter": "python",
   "pygments_lexer": "ipython3",
   "version": "3.9.16"
  }
 },
 "nbformat": 4,
 "nbformat_minor": 5
}
